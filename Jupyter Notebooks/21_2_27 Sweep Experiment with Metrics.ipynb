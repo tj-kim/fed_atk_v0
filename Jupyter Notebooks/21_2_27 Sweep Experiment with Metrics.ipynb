{
 "cells": [
  {
   "cell_type": "markdown",
   "metadata": {},
   "source": [
    "# Sweep Experiment with Metrics\n",
    "\n",
    "TJ Kim <br/>\n",
    "2/27/21\n",
    "\n",
    "Updated <br/>\n",
    "2/27/21\n",
    "\n",
    "#### Objective: \n",
    "Run experiments given new transferability metrics where we sweep across the following parameters: <br/>\n",
    "\n",
    "Inputs:<br/>\n",
    "- Number of Layers\n",
    "- Number of iterations (FGSM)\n",
    "- Confidence Parameter (C&W)\n",
    "\n",
    "Outputs:<br/>\n",
    "- Old Transferability Metrics (Label Based)\n",
    "- New Transferability Metrics (Empirical)\n",
    "\n",
    "Also, print outputs to excel files in a organized fashion (tables)."
   ]
  },
  {
   "cell_type": "code",
   "execution_count": 1,
   "metadata": {},
   "outputs": [
    {
     "name": "stdout",
     "output_type": "stream",
     "text": [
      "/home/ubuntu/FedAtk\n"
     ]
    }
   ],
   "source": [
    "cd '/home/ubuntu/FedAtk/' "
   ]
  },
  {
   "cell_type": "markdown",
   "metadata": {},
   "source": [
    "### Load Relevant Libraries and Modules\n",
    "\n",
    "Load the relevant libraries for the federated learning code."
   ]
  },
  {
   "cell_type": "code",
   "execution_count": 2,
   "metadata": {},
   "outputs": [],
   "source": [
    "# Transferer\n",
    "from transfer_attacks.Transferer import *\n",
    "import torch"
   ]
  },
  {
   "cell_type": "markdown",
   "metadata": {},
   "source": [
    "### Organize Experiment Parameters\n",
    "\n",
    "Sort the following:<br/>\n",
    "- Names of the different layers\n",
    "- Save folder for csv files"
   ]
  },
  {
   "cell_type": "code",
   "execution_count": null,
   "metadata": {},
   "outputs": [],
   "source": []
  }
 ],
 "metadata": {
  "kernelspec": {
   "display_name": "Python 3",
   "language": "python",
   "name": "python3"
  },
  "language_info": {
   "codemirror_mode": {
    "name": "ipython",
    "version": 3
   },
   "file_extension": ".py",
   "mimetype": "text/x-python",
   "name": "python",
   "nbconvert_exporter": "python",
   "pygments_lexer": "ipython3",
   "version": "3.8.5"
  }
 },
 "nbformat": 4,
 "nbformat_minor": 4
}
