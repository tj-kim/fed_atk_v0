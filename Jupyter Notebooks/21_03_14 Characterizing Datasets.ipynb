{
 "cells": [
  {
   "cell_type": "markdown",
   "metadata": {},
   "source": [
    "# Characterizing Datasets\n",
    "\n",
    "TJ Kim <br/>\n",
    "3/14/21\n",
    "\n",
    "Updated <br/>\n",
    "3/14/21\n",
    "\n",
    "#### Objective: \n",
    "Characterize dataset that are not i.i.d distributed: <br/>\n",
    "\n",
    "Deliverables\n",
    "- Guassian extrapolation of mean and variance of each \"feature node\"\n",
    "- PAC representation of the point clusters \n",
    "\n",
    "The different clusters will be divided along:\n",
    "- nth data set for each client\n",
    "- across class lines\n",
    "- combination of 2 prior\n"
   ]
  },
  {
   "cell_type": "code",
   "execution_count": 2,
   "metadata": {},
   "outputs": [
    {
     "name": "stdout",
     "output_type": "stream",
     "text": [
      "/home/ubuntu/FedAtk\n"
     ]
    }
   ],
   "source": [
    "cd '/home/ubuntu/FedAtk/' "
   ]
  },
  {
   "cell_type": "markdown",
   "metadata": {},
   "source": [
    "### Load Relevant Libraries and Modules\n",
    "\n",
    "Load the relevant libraries for the federated learning code."
   ]
  },
  {
   "cell_type": "code",
   "execution_count": 3,
   "metadata": {},
   "outputs": [],
   "source": [
    "# Transferer\n",
    "from transfer_attacks.Transferer import *\n",
    "from configs.overwrite_config import *\n",
    "\n",
    "# General Libraries\n",
    "import torch\n",
    "import numpy as np\n",
    "import os\n",
    "import pandas as pd"
   ]
  },
  {
   "cell_type": "markdown",
   "metadata": {},
   "source": []
  }
 ],
 "metadata": {
  "kernelspec": {
   "display_name": "Python 3",
   "language": "python",
   "name": "python3"
  },
  "language_info": {
   "codemirror_mode": {
    "name": "ipython",
    "version": 3
   },
   "file_extension": ".py",
   "mimetype": "text/x-python",
   "name": "python",
   "nbconvert_exporter": "python",
   "pygments_lexer": "ipython3",
   "version": "3.8.5"
  }
 },
 "nbformat": 4,
 "nbformat_minor": 4
}
