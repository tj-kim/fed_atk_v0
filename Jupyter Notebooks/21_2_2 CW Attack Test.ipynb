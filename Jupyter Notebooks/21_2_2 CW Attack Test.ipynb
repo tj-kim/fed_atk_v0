{
 "cells": [
  {
   "cell_type": "markdown",
   "metadata": {},
   "source": [
    "# CW Attack Test\n",
    "\n",
    "TJ Kim <br/>\n",
    "2/2/21\n",
    "\n",
    "Updated <br/>\n",
    "2/18/21\n",
    "\n",
    "#### Objective: \n",
    "Run CW Attack on generic federated learning setting.\n",
    "See what the transfer rate is.\n",
    "\n",
    "The goal is to build an infrastructure of C&W Attack Implementation.\n"
   ]
  },
  {
   "cell_type": "code",
   "execution_count": 1,
   "metadata": {},
   "outputs": [
    {
     "name": "stdout",
     "output_type": "stream",
     "text": [
      "/home/ubuntu/FedAtk\n"
     ]
    }
   ],
   "source": [
    "cd '/home/ubuntu/FedAtk/' "
   ]
  },
  {
   "cell_type": "markdown",
   "metadata": {},
   "source": [
    "### Load Relevant Libraries and Modules\n",
    "\n",
    "Load the relevant libraries for the federated learning code."
   ]
  },
  {
   "cell_type": "code",
   "execution_count": 2,
   "metadata": {},
   "outputs": [],
   "source": [
    "# Transferer\n",
    "from transfer_attacks.Transferer import *\n",
    "import torch"
   ]
  },
  {
   "cell_type": "markdown",
   "metadata": {},
   "source": [
    "### Directly Make victim NN Class"
   ]
  },
  {
   "cell_type": "markdown",
   "metadata": {},
   "source": [
    "### Transfer Attack For Set Configuration\n",
    "\n",
    "As a demo, we will perform a transfer attack from client 0 to the other 7 clients in the system. The implementation is identical to the FGSM testbed."
   ]
  },
  {
   "cell_type": "code",
   "execution_count": 3,
   "metadata": {},
   "outputs": [
    {
     "name": "stdout",
     "output_type": "stream",
     "text": [
      "Loading  all_data_12_niid_0_keep_0_train_9.json\n",
      "Loading  all_data_20_niid_0_keep_0_train_9.json\n",
      "Loading  all_data_11_niid_0_keep_0_train_9.json\n",
      "Loading  all_data_18_niid_0_keep_0_train_9.json\n"
     ]
    },
    {
     "name": "stderr",
     "output_type": "stream",
     "text": [
      "/home/ubuntu/anaconda3/lib/python3.8/site-packages/torch/nn/_reduction.py:43: UserWarning: size_average and reduce args will be deprecated, please use reduction='sum' instead.\n",
      "  warnings.warn(warning.format(ret))\n"
     ]
    }
   ],
   "source": [
    "client_idx = 0\n",
    "victim_idxs = [0,1,2,3]\n",
    "\n",
    "transferer = Transferer(filename = 'exp2_neck2_head3')\n",
    "transferer.generate_advNN(client_idx = client_idx)\n",
    "transferer.generate_victims(client_idxs = victim_idxs)\n",
    "transferer.cw_params = CW_Params()\n",
    "transferer.generate_xadv(atk_type = \"cw\")\n",
    "transferer.send_to_victims(victim_idxs)"
   ]
  },
  {
   "cell_type": "code",
   "execution_count": 4,
   "metadata": {},
   "outputs": [
    {
     "name": "stdout",
     "output_type": "stream",
     "text": [
      "orig_acc_transfers\n",
      " tensor(0.8000, device='cuda:0')\n",
      "orig_similarities\n",
      " tensor(0.8000, device='cuda:0')\n",
      "orig_target_hit\n",
      " tensor(0., device='cuda:0')\n",
      "adv_acc_transfers\n",
      " tensor(0.1000, device='cuda:0')\n",
      "adv_similarities\n",
      " tensor(0.2000, device='cuda:0')\n",
      "adv_target_hit\n",
      " tensor(0.2000, device='cuda:0')\n"
     ]
    }
   ],
   "source": [
    "j = 2\n",
    "\n",
    "print(\"orig_acc_transfers\\n\",transferer.orig_acc_transfers[j])\n",
    "print(\"orig_similarities\\n\",transferer.orig_similarities[j])\n",
    "print(\"orig_target_hit\\n\",transferer.orig_target_hit[j])\n",
    "print(\"adv_acc_transfers\\n\",transferer.adv_acc_transfers[j])\n",
    "print(\"adv_similarities\\n\",transferer.adv_similarities[j])\n",
    "print(\"adv_target_hit\\n\",transferer.adv_target_hit[j])"
   ]
  },
  {
   "cell_type": "code",
   "execution_count": 5,
   "metadata": {},
   "outputs": [
    {
     "data": {
      "text/plain": [
       "tensor([ 7,  3,  8,  0, 49, 17, 41,  8,  2, 20], device='cuda:0')"
      ]
     },
     "execution_count": 5,
     "metadata": {},
     "output_type": "execute_result"
    }
   ],
   "source": [
    "transferer.y_true"
   ]
  },
  {
   "cell_type": "code",
   "execution_count": 6,
   "metadata": {},
   "outputs": [
    {
     "data": {
      "text/plain": [
       "tensor([ 7,  3,  8,  0, 49,  4, 41,  8,  2, 46], device='cuda:0')"
      ]
     },
     "execution_count": 6,
     "metadata": {},
     "output_type": "execute_result"
    }
   ],
   "source": [
    "torch.argmax(transferer.victims[2](transferer.x_orig),dim=1)"
   ]
  },
  {
   "cell_type": "code",
   "execution_count": 7,
   "metadata": {},
   "outputs": [
    {
     "data": {
      "text/plain": [
       "tensor([ 7,  3,  8,  0, 49, 17, 41,  8,  2, 20], device='cuda:0')"
      ]
     },
     "execution_count": 7,
     "metadata": {},
     "output_type": "execute_result"
    }
   ],
   "source": [
    "torch.argmax(transferer.advNN(transferer.x_orig),dim=1)"
   ]
  },
  {
   "cell_type": "code",
   "execution_count": 8,
   "metadata": {},
   "outputs": [
    {
     "data": {
      "text/plain": [
       "tensor([20, 20, 20, 20, 20, 20, 20, 20, 20, 20], device='cuda:0')"
      ]
     },
     "execution_count": 8,
     "metadata": {},
     "output_type": "execute_result"
    }
   ],
   "source": [
    "torch.argmax(transferer.advNN(transferer.x_adv),dim=1)"
   ]
  },
  {
   "cell_type": "code",
   "execution_count": 9,
   "metadata": {},
   "outputs": [
    {
     "data": {
      "text/plain": [
       "tensor([34, 20, 41, 46, 34, 34, 34, 34, 34, 20], device='cuda:0')"
      ]
     },
     "execution_count": 9,
     "metadata": {},
     "output_type": "execute_result"
    }
   ],
   "source": [
    "torch.argmax(transferer.victims[2](transferer.x_adv),dim = 1)"
   ]
  },
  {
   "cell_type": "code",
   "execution_count": null,
   "metadata": {},
   "outputs": [],
   "source": []
  }
 ],
 "metadata": {
  "kernelspec": {
   "display_name": "Python 3",
   "language": "python",
   "name": "python3"
  },
  "language_info": {
   "codemirror_mode": {
    "name": "ipython",
    "version": 3
   },
   "file_extension": ".py",
   "mimetype": "text/x-python",
   "name": "python",
   "nbconvert_exporter": "python",
   "pygments_lexer": "ipython3",
   "version": "3.8.5"
  }
 },
 "nbformat": 4,
 "nbformat_minor": 4
}
