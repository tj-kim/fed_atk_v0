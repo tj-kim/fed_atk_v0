{
 "cells": [
  {
   "cell_type": "markdown",
   "metadata": {},
   "source": [
    "# Characterizing Datasets\n",
    "\n",
    "TJ Kim <br/>\n",
    "3/14/21\n",
    "\n",
    "Updated <br/>\n",
    "3/14/21\n",
    "\n",
    "#### Objective: \n",
    "Characterize dataset that are not i.i.d distributed: <br/>\n",
    "\n",
    "Deliverables\n",
    "- Guassian extrapolation of mean and variance of each \"feature node\"\n",
    "- PAC representation of the point clusters \n",
    "\n",
    "The different clusters will be divided along:\n",
    "- nth data set for each client\n",
    "- across class lines\n",
    "- combination of 2 prior\n"
   ]
  },
  {
   "cell_type": "code",
   "execution_count": 1,
   "metadata": {},
   "outputs": [
    {
     "name": "stdout",
     "output_type": "stream",
     "text": [
      "/home/ubuntu/FedAtk\n"
     ]
    }
   ],
   "source": [
    "cd '/home/ubuntu/FedAtk/' "
   ]
  },
  {
   "cell_type": "markdown",
   "metadata": {},
   "source": [
    "### Load Relevant Libraries and Modules\n",
    "\n",
    "Load the relevant libraries for the federated learning code."
   ]
  },
  {
   "cell_type": "code",
   "execution_count": 2,
   "metadata": {},
   "outputs": [],
   "source": [
    "# Transferer\n",
    "from transfer_attacks.Transferer import *\n",
    "from configs.overwrite_config import *\n",
    "\n",
    "# General Libraries\n",
    "import torch\n",
    "import numpy as np\n",
    "import os\n",
    "import pandas as pd"
   ]
  },
  {
   "cell_type": "code",
   "execution_count": 3,
   "metadata": {},
   "outputs": [],
   "source": [
    "from federated_training.femnist_dataloader import Dataloader\n",
    "from federated_training.cnn_head import CNN_Head\n",
    "from federated_training.cnn_neck import CNN_Neck\n",
    "from federated_training.cnn_server import Server\n",
    "from federated_training.cnn_client import Client\n",
    "from federated_training.data_manager import DataManager\n",
    "from federated_training.utils import cuda, where\n",
    "from federated_training.utilities import freeze_layers\n",
    "\n",
    "from cw_attack.cw import *\n",
    "\n",
    "import numpy as np\n",
    "import torch\n",
    "import matplotlib.pyplot as plt\n",
    "import random\n",
    "import csv\n",
    "import os\n",
    "import pickle\n",
    "from torch.autograd import Variable\n",
    "import copy"
   ]
  },
  {
   "cell_type": "code",
   "execution_count": 28,
   "metadata": {},
   "outputs": [
    {
     "name": "stdout",
     "output_type": "stream",
     "text": [
      "Loading  all_data_12_niid_0_keep_0_train_9.json\n",
      "Loading  all_data_20_niid_0_keep_0_train_9.json\n",
      "Loading  all_data_11_niid_0_keep_0_train_9.json\n",
      "Loading  all_data_18_niid_0_keep_0_train_9.json\n",
      "Loading  all_data_0_niid_0_keep_0_train_9.json\n",
      "Loading  all_data_34_niid_0_keep_0_train_9.json\n",
      "Loading  all_data_17_niid_0_keep_0_train_9.json\n",
      "Loading  all_data_13_niid_0_keep_0_train_9.json\n",
      "Loading  all_data_7_niid_0_keep_0_train_9.json\n",
      "Loading  all_data_33_niid_0_keep_0_train_9.json\n",
      "Loading  all_data_24_niid_0_keep_0_train_9.json\n",
      "Loading  all_data_5_niid_0_keep_0_train_9.json\n",
      "Loading  all_data_27_niid_0_keep_0_train_9.json\n",
      "Loading  all_data_26_niid_0_keep_0_train_9.json\n",
      "Loading  all_data_21_niid_0_keep_0_train_9.json\n",
      "Loading  all_data_10_niid_0_keep_0_train_9.json\n",
      "Loading  all_data_19_niid_0_keep_0_train_9.json\n",
      "Loading  all_data_6_niid_0_keep_0_train_9.json\n",
      "Loading  all_data_32_niid_0_keep_0_train_9.json\n",
      "Loading  all_data_15_niid_0_keep_0_train_9.json\n",
      "Loading  all_data_2_niid_0_keep_0_train_9.json\n",
      "Loading  all_data_3_niid_0_keep_0_train_9.json\n",
      "Loading  all_data_31_niid_0_keep_0_train_9.json\n",
      "Loading  all_data_30_niid_0_keep_0_train_9.json\n",
      "Loading  all_data_16_niid_0_keep_0_train_9.json\n",
      "Loading  all_data_8_niid_0_keep_0_train_9.json\n",
      "Loading  all_data_25_niid_0_keep_0_train_9.json\n",
      "Loading  all_data_1_niid_0_keep_0_train_9.json\n",
      "Loading  all_data_14_niid_0_keep_0_train_9.json\n",
      "Loading  all_data_28_niid_0_keep_0_train_9.json\n",
      "Loading  all_data_9_niid_0_keep_0_train_9.json\n",
      "Loading  all_data_22_niid_0_keep_0_train_9.json\n"
     ]
    }
   ],
   "source": [
    "# Load config file \n",
    "with open(r'configs/config.yaml') as file:\n",
    "    config = yaml.load(file, Loader=yaml.FullLoader)\n",
    "\n",
    "client_idxs= np.arange(8)\n",
    "    \n",
    "# Import Data Loader for this FL set\n",
    "file_indices = [i for i in range(config['num_sets'])]\n",
    "client_slice = len(file_indices)//config['num_clients']\n",
    "\n",
    "loader = {}\n",
    "\n",
    "for client_idx in client_idxs:\n",
    "    # Import the loader for this dataset only\n",
    "    loader[client_idx] = Dataloader(file_indices,[client_idx*(client_slice),min((client_idx+1)*(client_slice),35)])  \n",
    "    loader[client_idx].load_training_dataset()\n",
    "    loader[client_idx].load_testing_dataset()\n",
    "        "
   ]
  },
  {
   "cell_type": "code",
   "execution_count": 29,
   "metadata": {},
   "outputs": [],
   "source": [
    "class_count = {}\n",
    "\n",
    "# Obtain Data information about each set\n",
    "for c in client_idxs:\n",
    "    y = np.array(loader[c].test_dataset['user_data']['y'])\n",
    "    class_i_dict = {}\n",
    "    for i in range(62):\n",
    "        cnt = np.argwhere(y==i).shape[0]\n",
    "        class_i_dict[i] = cnt\n",
    "    class_count[c] = class_i_dict"
   ]
  },
  {
   "cell_type": "code",
   "execution_count": 36,
   "metadata": {},
   "outputs": [],
   "source": [
    "exp_name = '21_3_15 Data - Femnist Test Set Labels'\n",
    "exp_path = \"results/\" + exp_name\n",
    "if not os.path.isdir(exp_path):\n",
    "    os.mkdir(exp_path)\n",
    "\n",
    "df1_1 = pd.DataFrame(data=class_count)\n",
    "df1_1.to_excel(exp_path + '/'+'femnist_test_labels.xlsx',header=True)"
   ]
  },
  {
   "cell_type": "code",
   "execution_count": null,
   "metadata": {},
   "outputs": [],
   "source": []
  }
 ],
 "metadata": {
  "kernelspec": {
   "display_name": "Python 3",
   "language": "python",
   "name": "python3"
  },
  "language_info": {
   "codemirror_mode": {
    "name": "ipython",
    "version": 3
   },
   "file_extension": ".py",
   "mimetype": "text/x-python",
   "name": "python",
   "nbconvert_exporter": "python",
   "pygments_lexer": "ipython3",
   "version": "3.8.5"
  }
 },
 "nbformat": 4,
 "nbformat_minor": 4
}
