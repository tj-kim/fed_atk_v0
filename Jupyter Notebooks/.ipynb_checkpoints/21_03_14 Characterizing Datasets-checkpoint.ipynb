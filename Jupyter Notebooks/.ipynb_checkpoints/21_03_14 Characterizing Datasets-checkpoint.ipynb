{
 "cells": [
  {
   "cell_type": "markdown",
   "metadata": {},
   "source": [
    "# Characterizing Datasets\n",
    "\n",
    "TJ Kim <br/>\n",
    "3/8/21\n",
    "\n",
    "Updated <br/>\n",
    "3/13/21\n",
    "- Running with test data instead of train data\n",
    "\n",
    "#### Objective: \n",
    "Run experiments given new transferability metrics where we sweep across the following parameters: <br/>\n",
    "\n",
    "Inputs:<br/>\n",
    "- Number of Layers\n",
    "- Number of iterations (FGSM)\n",
    "- Confidence Parameter (C&W)\n",
    "\n",
    "Outputs:<br/>\n",
    "- Old Transferability Metrics (Label Based)\n",
    "- New Transferability Metrics (Empirical)\n",
    "\n",
    "Also, print outputs to excel files in a organized fashion (tables).\n",
    "\n",
    "Also, for the transferability metrics, split between successfully fooled and unsuccessfully fooled."
   ]
  }
 ],
 "metadata": {
  "kernelspec": {
   "display_name": "Python 3",
   "language": "python",
   "name": "python3"
  },
  "language_info": {
   "codemirror_mode": {
    "name": "ipython",
    "version": 3
   },
   "file_extension": ".py",
   "mimetype": "text/x-python",
   "name": "python",
   "nbconvert_exporter": "python",
   "pygments_lexer": "ipython3",
   "version": "3.8.5"
  }
 },
 "nbformat": 4,
 "nbformat_minor": 4
}
