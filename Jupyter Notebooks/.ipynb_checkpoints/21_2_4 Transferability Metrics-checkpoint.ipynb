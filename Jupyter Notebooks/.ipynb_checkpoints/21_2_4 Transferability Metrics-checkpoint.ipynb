{
 "cells": [
  {
   "cell_type": "markdown",
   "metadata": {},
   "source": [
    "# Transferability Metrics\n",
    "\n",
    "TJ Kim <br/>\n",
    "2/4/21\n",
    "\n",
    "Updated <br/>\n",
    "2/21/21\n",
    "\n",
    "#### Objective: \n",
    "To the existing (and functioning) FGSM attack, add measurements of transferability between different networks.\n",
    "This will help us compare as well. \n",
    "\n",
    "#### Transferability Metrics\n",
    "- Size of input gradient\n",
    "- Gradient Alignment\n",
    "- Variance of Loss\n",
    "\n",
    "#### Other Metrics\n",
    "- Confidence of attack (Loss towards target)\n",
    "- L2 Distance from original point\n"
   ]
  },
  {
   "cell_type": "code",
   "execution_count": 1,
   "metadata": {},
   "outputs": [
    {
     "name": "stdout",
     "output_type": "stream",
     "text": [
      "/home/ubuntu/FedAtk\n"
     ]
    }
   ],
   "source": [
    "cd '/home/ubuntu/FedAtk/' "
   ]
  },
  {
   "cell_type": "markdown",
   "metadata": {},
   "source": [
    "### Load Relevant Libraries and Modules\n",
    "\n",
    "Load the relevant libraries for the federated learning code."
   ]
  },
  {
   "cell_type": "code",
   "execution_count": 2,
   "metadata": {},
   "outputs": [],
   "source": [
    "import torch\n",
    "\n",
    "# Personal NN\n",
    "# from transfer_attacks.Personalized_NN import *\n",
    "from transfer_attacks.Transferer import *\n",
    "# Import the Rest"
   ]
  },
  {
   "cell_type": "markdown",
   "metadata": {},
   "source": [
    "### Load and Run the System"
   ]
  },
  {
   "cell_type": "code",
   "execution_count": 3,
   "metadata": {},
   "outputs": [
    {
     "name": "stdout",
     "output_type": "stream",
     "text": [
      "Loading  all_data_12_niid_0_keep_0_train_9.json\n",
      "Loading  all_data_20_niid_0_keep_0_train_9.json\n",
      "Loading  all_data_11_niid_0_keep_0_train_9.json\n",
      "Loading  all_data_18_niid_0_keep_0_train_9.json\n"
     ]
    },
    {
     "name": "stderr",
     "output_type": "stream",
     "text": [
      "/home/ubuntu/anaconda3/lib/python3.8/site-packages/torch/nn/_reduction.py:43: UserWarning: size_average and reduce args will be deprecated, please use reduction='sum' instead.\n",
      "  warnings.warn(warning.format(ret))\n"
     ]
    }
   ],
   "source": [
    "client_idx = 0\n",
    "victim_idxs = [0,1,2,3,4,5,6,7]\n",
    "\n",
    "# Generate NN and Victims\n",
    "transferer = Transferer(filename = 'exp2_neck2_head3')\n",
    "transferer.generate_advNN(client_idx = client_idx)\n",
    "transferer.generate_victims(client_idxs = victim_idxs)"
   ]
  },
  {
   "cell_type": "code",
   "execution_count": 4,
   "metadata": {},
   "outputs": [],
   "source": [
    "transferer.generate_xadv(atk_type = \"ifsgm\")\n",
    "transferer.send_to_victims(victim_idxs)"
   ]
  },
  {
   "cell_type": "code",
   "execution_count": 5,
   "metadata": {},
   "outputs": [
    {
     "name": "stdout",
     "output_type": "stream",
     "text": [
      "tensor(1.1590)\n"
     ]
    }
   ],
   "source": [
    "# Run the empirical metrics\n",
    "transferer.check_empirical_metrics(orig_flag = True, batch_size = 100)\n",
    "#print(transferer.metric_variance)\n",
    "#print(transferer.metric_ingrad)\n",
    "print(transferer.metric_alignment[3])"
   ]
  },
  {
   "cell_type": "code",
   "execution_count": 6,
   "metadata": {},
   "outputs": [
    {
     "name": "stdout",
     "output_type": "stream",
     "text": [
      "tensor([ 2, 19, 29,  7, 32,  3,  3, 36,  3,  1], device='cuda:0')\n",
      "tensor([ 2, 19, 29,  7, 32,  3,  3, 26,  3,  1], device='cuda:0')\n",
      "tensor([ 2, 39, 29,  7, 10,  3,  3, 26,  3,  1], device='cuda:0')\n",
      "tensor([ 2, 30, 29,  7, 22,  3,  3, 36,  3,  1], device='cuda:0')\n",
      "tensor([ 2, 30, 29,  7, 23,  3,  3,  9,  3,  1], device='cuda:0')\n",
      "tensor([ 2,  3, 29,  7, 32,  3,  3, 26,  3,  1], device='cuda:0')\n",
      "tensor([ 2, 39, 29,  7, 23,  3,  3, 26,  3,  1], device='cuda:0')\n",
      "tensor([ 2, 39, 29,  7, 32,  3,  3, 36,  3,  1], device='cuda:0')\n"
     ]
    }
   ],
   "source": [
    "for i in range(8):\n",
    "    print(torch.argmax(transferer.victims[i](transferer.x_orig),dim=1))"
   ]
  },
  {
   "cell_type": "code",
   "execution_count": 7,
   "metadata": {},
   "outputs": [
    {
     "name": "stdout",
     "output_type": "stream",
     "text": [
      "tensor([20, 20, 20, 20, 20, 20, 20, 20, 20, 20], device='cuda:0')\n",
      "tensor([23, 17,  8, 41, 20,  0, 20, 26, 20, 20], device='cuda:0')\n",
      "tensor([20, 17, 27, 20, 46,  3, 46, 20, 20, 34], device='cuda:0')\n",
      "tensor([33, 23, 20, 20, 20, 24, 20, 20,  5, 20], device='cuda:0')\n",
      "tensor([33, 20, 33, 20, 20,  0, 14, 20,  5, 20], device='cuda:0')\n",
      "tensor([46, 20, 33, 15, 27, 24, 15, 23, 11, 20], device='cuda:0')\n",
      "tensor([20, 20, 20,  5, 20,  0, 20, 23, 20, 20], device='cuda:0')\n",
      "tensor([23, 17, 25, 20, 27,  7,  4, 20,  4, 20], device='cuda:0')\n"
     ]
    }
   ],
   "source": [
    "for i in range(8):\n",
    "    print(torch.argmax(transferer.victims[i](transferer.x_adv),dim=1))"
   ]
  },
  {
   "cell_type": "code",
   "execution_count": 8,
   "metadata": {},
   "outputs": [
    {
     "name": "stdout",
     "output_type": "stream",
     "text": [
      "\n",
      " NN 0\n",
      "orig_acc_transfers:  tensor(1., device='cuda:0')\n",
      "orig_similarities:  tensor(1., device='cuda:0')\n",
      "orig_target_hit: tensor(0., device='cuda:0')\n",
      "adv_acc_transfers: tensor(0., device='cuda:0')\n",
      "adv_similarities: tensor(1., device='cuda:0')\n",
      "adv_target_hit: tensor(1., device='cuda:0')\n",
      "tensor(0.0005)\n",
      "\n",
      " NN 1\n",
      "orig_acc_transfers:  tensor(0.9000, device='cuda:0')\n",
      "orig_similarities:  tensor(0.9000, device='cuda:0')\n",
      "orig_target_hit: tensor(0., device='cuda:0')\n",
      "adv_acc_transfers: tensor(0., device='cuda:0')\n",
      "adv_similarities: tensor(0.4000, device='cuda:0')\n",
      "adv_target_hit: tensor(0.4000, device='cuda:0')\n",
      "tensor(1.2173)\n",
      "\n",
      " NN 2\n",
      "orig_acc_transfers:  tensor(0.7000, device='cuda:0')\n",
      "orig_similarities:  tensor(0.7000, device='cuda:0')\n",
      "orig_target_hit: tensor(0., device='cuda:0')\n",
      "adv_acc_transfers: tensor(0.1000, device='cuda:0')\n",
      "adv_similarities: tensor(0.4000, device='cuda:0')\n",
      "adv_target_hit: tensor(0.4000, device='cuda:0')\n",
      "tensor(1.3760)\n",
      "\n",
      " NN 3\n",
      "orig_acc_transfers:  tensor(0.8000, device='cuda:0')\n",
      "orig_similarities:  tensor(0.8000, device='cuda:0')\n",
      "orig_target_hit: tensor(0., device='cuda:0')\n",
      "adv_acc_transfers: tensor(0., device='cuda:0')\n",
      "adv_similarities: tensor(0.6000, device='cuda:0')\n",
      "adv_target_hit: tensor(0.6000, device='cuda:0')\n",
      "tensor(1.1590)\n",
      "\n",
      " NN 4\n",
      "orig_acc_transfers:  tensor(0.7000, device='cuda:0')\n",
      "orig_similarities:  tensor(0.7000, device='cuda:0')\n",
      "orig_target_hit: tensor(0., device='cuda:0')\n",
      "adv_acc_transfers: tensor(0., device='cuda:0')\n",
      "adv_similarities: tensor(0.5000, device='cuda:0')\n",
      "adv_target_hit: tensor(0.5000, device='cuda:0')\n",
      "tensor(1.2730)\n",
      "\n",
      " NN 5\n",
      "orig_acc_transfers:  tensor(0.8000, device='cuda:0')\n",
      "orig_similarities:  tensor(0.8000, device='cuda:0')\n",
      "orig_target_hit: tensor(0., device='cuda:0')\n",
      "adv_acc_transfers: tensor(0., device='cuda:0')\n",
      "adv_similarities: tensor(0.2000, device='cuda:0')\n",
      "adv_target_hit: tensor(0.2000, device='cuda:0')\n",
      "tensor(1.3846)\n",
      "\n",
      " NN 6\n",
      "orig_acc_transfers:  tensor(0.7000, device='cuda:0')\n",
      "orig_similarities:  tensor(0.7000, device='cuda:0')\n",
      "orig_target_hit: tensor(0., device='cuda:0')\n",
      "adv_acc_transfers: tensor(0., device='cuda:0')\n",
      "adv_similarities: tensor(0.7000, device='cuda:0')\n",
      "adv_target_hit: tensor(0.7000, device='cuda:0')\n",
      "tensor(1.2027)\n",
      "\n",
      " NN 7\n",
      "orig_acc_transfers:  tensor(0.9000, device='cuda:0')\n",
      "orig_similarities:  tensor(0.9000, device='cuda:0')\n",
      "orig_target_hit: tensor(0., device='cuda:0')\n",
      "adv_acc_transfers: tensor(0., device='cuda:0')\n",
      "adv_similarities: tensor(0.3000, device='cuda:0')\n",
      "adv_target_hit: tensor(0.3000, device='cuda:0')\n",
      "tensor(1.2367)\n"
     ]
    }
   ],
   "source": [
    "for j in range(8):\n",
    "    print(\"\\n NN\", j)\n",
    "    print(\"orig_acc_transfers: \",transferer.orig_acc_transfers[j])\n",
    "    print(\"orig_similarities: \",transferer.orig_similarities[j])\n",
    "    print(\"orig_target_hit:\",transferer.orig_target_hit[j])\n",
    "    print(\"adv_acc_transfers:\",transferer.adv_acc_transfers[j])\n",
    "    print(\"adv_similarities:\",transferer.adv_similarities[j])\n",
    "    print(\"adv_target_hit:\",transferer.adv_target_hit[j])\n",
    "    print(transferer.metric_alignment[j])"
   ]
  },
  {
   "cell_type": "code",
   "execution_count": null,
   "metadata": {},
   "outputs": [],
   "source": []
  }
 ],
 "metadata": {
  "kernelspec": {
   "display_name": "Python 3",
   "language": "python",
   "name": "python3"
  },
  "language_info": {
   "codemirror_mode": {
    "name": "ipython",
    "version": 3
   },
   "file_extension": ".py",
   "mimetype": "text/x-python",
   "name": "python",
   "nbconvert_exporter": "python",
   "pygments_lexer": "ipython3",
   "version": "3.8.5"
  }
 },
 "nbformat": 4,
 "nbformat_minor": 4
}
