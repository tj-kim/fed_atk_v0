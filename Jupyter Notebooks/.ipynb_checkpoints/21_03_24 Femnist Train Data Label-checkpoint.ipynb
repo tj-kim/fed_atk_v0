{
 "cells": [
  {
   "cell_type": "markdown",
   "metadata": {},
   "source": [
    "# Femnist Train Data Label\n",
    "\n",
    "TJ Kim <br/>\n",
    "3/24/21\n",
    "\n",
    "Updated <br/>\n",
    "3/24/21\n",
    "\n",
    "#### Objective: \n",
    "Across every \"individual\" user in the training set of Femnist, calculate how many of the labels they have and summarize this value. This will help us analyze how non-iid data works in terms of label distribution."
   ]
  },
  {
   "cell_type": "code",
   "execution_count": 1,
   "metadata": {},
   "outputs": [
    {
     "name": "stdout",
     "output_type": "stream",
     "text": [
      "/home/ubuntu/FedAtk\n"
     ]
    }
   ],
   "source": [
    "cd /home/ubuntu/FedAtk"
   ]
  },
  {
   "cell_type": "markdown",
   "metadata": {},
   "source": [
    "Import relevant libraries."
   ]
  },
  {
   "cell_type": "code",
   "execution_count": 2,
   "metadata": {},
   "outputs": [],
   "source": [
    "from federated_training.femnist_dataloader import *"
   ]
  },
  {
   "cell_type": "markdown",
   "metadata": {},
   "source": [
    "Load the data (change client_idxs to load x/8th of the data)"
   ]
  },
  {
   "cell_type": "code",
   "execution_count": 3,
   "metadata": {},
   "outputs": [],
   "source": [
    "# Load config file \n",
    "with open(r'configs/config.yaml') as file:\n",
    "    config = yaml.load(file, Loader=yaml.FullLoader)\n",
    "\n",
    "client_idxs= np.arange(2)\n",
    "    \n",
    "# Import Data Loader for this FL set\n",
    "file_indices = [i for i in range(config['num_sets'])]\n",
    "client_slice = len(file_indices)//config['num_clients']"
   ]
  },
  {
   "cell_type": "code",
   "execution_count": 4,
   "metadata": {},
   "outputs": [
    {
     "name": "stdout",
     "output_type": "stream",
     "text": [
      "Loading  all_data_12_niid_0_keep_0_train_9.json\n",
      "Loading  all_data_20_niid_0_keep_0_train_9.json\n",
      "Loading  all_data_11_niid_0_keep_0_train_9.json\n",
      "Loading  all_data_18_niid_0_keep_0_train_9.json\n",
      "Loading  all_data_0_niid_0_keep_0_train_9.json\n",
      "Loading  all_data_34_niid_0_keep_0_train_9.json\n",
      "Loading  all_data_17_niid_0_keep_0_train_9.json\n",
      "Loading  all_data_13_niid_0_keep_0_train_9.json\n"
     ]
    }
   ],
   "source": [
    "loader = {}\n",
    "\n",
    "for client_idx in client_idxs:\n",
    "    # Import the loader for this dataset only\n",
    "    loader[client_idx] = Dataloader(file_indices,[client_idx*(client_slice),min((client_idx+1)*(client_slice),35)])  \n",
    "    loader[client_idx].load_training_dataset()"
   ]
  },
  {
   "cell_type": "markdown",
   "metadata": {},
   "source": [
    "Count the number of hits per user."
   ]
  },
  {
   "cell_type": "code",
   "execution_count": 5,
   "metadata": {},
   "outputs": [
    {
     "ename": "TypeError",
     "evalue": "'NoneType' object is not subscriptable",
     "output_type": "error",
     "traceback": [
      "\u001b[0;31m---------------------------------------------------------------------------\u001b[0m",
      "\u001b[0;31mTypeError\u001b[0m                                 Traceback (most recent call last)",
      "\u001b[0;32m<ipython-input-5-ca940e5d7bd2>\u001b[0m in \u001b[0;36m<module>\u001b[0;34m\u001b[0m\n\u001b[1;32m      3\u001b[0m \u001b[0;31m# Obtain Data information about each set\u001b[0m\u001b[0;34m\u001b[0m\u001b[0;34m\u001b[0m\u001b[0;34m\u001b[0m\u001b[0m\n\u001b[1;32m      4\u001b[0m \u001b[0;32mfor\u001b[0m \u001b[0mc\u001b[0m \u001b[0;32min\u001b[0m \u001b[0mclient_idxs\u001b[0m\u001b[0;34m:\u001b[0m\u001b[0;34m\u001b[0m\u001b[0;34m\u001b[0m\u001b[0m\n\u001b[0;32m----> 5\u001b[0;31m     \u001b[0my\u001b[0m \u001b[0;34m=\u001b[0m \u001b[0mnp\u001b[0m\u001b[0;34m.\u001b[0m\u001b[0marray\u001b[0m\u001b[0;34m(\u001b[0m\u001b[0mloader\u001b[0m\u001b[0;34m[\u001b[0m\u001b[0mc\u001b[0m\u001b[0;34m]\u001b[0m\u001b[0;34m.\u001b[0m\u001b[0mtest_dataset\u001b[0m\u001b[0;34m[\u001b[0m\u001b[0;34m'user_data'\u001b[0m\u001b[0;34m]\u001b[0m\u001b[0;34m[\u001b[0m\u001b[0;34m'y'\u001b[0m\u001b[0;34m]\u001b[0m\u001b[0;34m)\u001b[0m\u001b[0;34m\u001b[0m\u001b[0;34m\u001b[0m\u001b[0m\n\u001b[0m\u001b[1;32m      6\u001b[0m     \u001b[0mclass_i_dict\u001b[0m \u001b[0;34m=\u001b[0m \u001b[0;34m{\u001b[0m\u001b[0;34m}\u001b[0m\u001b[0;34m\u001b[0m\u001b[0;34m\u001b[0m\u001b[0m\n\u001b[1;32m      7\u001b[0m     \u001b[0;32mfor\u001b[0m \u001b[0mi\u001b[0m \u001b[0;32min\u001b[0m \u001b[0mrange\u001b[0m\u001b[0;34m(\u001b[0m\u001b[0;36m62\u001b[0m\u001b[0;34m)\u001b[0m\u001b[0;34m:\u001b[0m\u001b[0;34m\u001b[0m\u001b[0;34m\u001b[0m\u001b[0m\n",
      "\u001b[0;31mTypeError\u001b[0m: 'NoneType' object is not subscriptable"
     ]
    }
   ],
   "source": [
    "class_count = {}\n",
    "\n",
    "# Obtain Data information about each set\n",
    "for c in client_idxs:\n",
    "    for writer in loader[c].test_dataset['user_data'].keys():\n",
    "        y = np.array(loader[c].train_dataset['user_data'][writer]['y'])\n",
    "        class_i_dict = {}\n",
    "        for i in range(62):\n",
    "            cnt = np.argwhere(y==i).shape[0]\n",
    "            class_i_dict[i] = cnt\n",
    "        class_count[writer] = class_i_dict"
   ]
  },
  {
   "cell_type": "code",
   "execution_count": 9,
   "metadata": {},
   "outputs": [
    {
     "data": {
      "text/plain": [
       "dict_keys(['f0830_45', 'f0580_29', 'f0834_03', 'f0735_17', 'f0890_35', 'f0824_18', 'f0547_28', 'f0551_15', 'f0505_13', 'f0911_02', 'f0681_47', 'f0868_03', 'f0964_10', 'f0970_15', 'f0607_27', 'f0853_05', 'f0872_30', 'f0586_11', 'f0898_29', 'f0851_41', 'f0859_01', 'f0728_14', 'f0674_44', 'f0858_32', 'f0973_47', 'f0737_49', 'f0541_47', 'f0567_25', 'f0770_45', 'f0863_41', 'f0933_38', 'f0741_44', 'f0540_22', 'f0904_04', 'f0648_23', 'f0625_26', 'f0544_05', 'f0643_23', 'f0906_29', 'f0652_30', 'f0507_19', 'f0849_38', 'f0578_14', 'f0723_20', 'f0977_37', 'f0539_34', 'f0710_08', 'f0895_48', 'f0615_00', 'f0972_43', 'f0994_46', 'f0922_02', 'f0637_21', 'f0685_40', 'f0599_04', 'f0855_46', 'f0835_08', 'f0556_25', 'f0997_34', 'f0995_43', 'f0929_23', 'f0788_34', 'f0574_03', 'f0844_42', 'f0699_19', 'f0628_05', 'f0822_30', 'f0634_01', 'f0577_19', 'f0827_09', 'f0638_07', 'f0608_06', 'f0624_32', 'f0535_19', 'f0558_01', 'f0633_18', 'f0969_31', 'f0686_09', 'f0852_40', 'f0752_25', 'f0980_43', 'f0792_07', 'f0941_49', 'f0532_09', 'f0920_11', 'f0864_41', 'f0543_19', 'f0813_02', 'f0807_16', 'f0661_44', 'f0866_22', 'f0726_09', 'f0896_44', 'f0530_15', 'f0854_12', 'f0873_42', 'f0999_29', 'f0798_05', 'f0740_43', 'f0943_40', 'f1917_19', 'f1693_00', 'f2039_13', 'f2022_38', 'f1719_12', 'f2045_15', 'f1562_13', 'f1600_43', 'f1980_17', 'f1802_35', 'f1837_00', 'f1918_04', 'f1707_05', 'f1522_45', 'f1923_42', 'f1966_31', 'f1563_24', 'f1888_11', 'f1116_09', 'f1663_13', 'f2009_39', 'f1609_27', 'f1645_35', 'f1945_00', 'f1742_04', 'f1529_23', 'f2082_26', 'f1810_02', 'f1860_06', 'f1552_32', 'f1688_24', 'f1622_16', 'f2086_25', 'f1926_49', 'f1508_14', 'f1847_26', 'f1587_05', 'f1604_07', 'f2005_01', 'f1843_09', 'f1941_44', 'f1682_10', 'f1772_12', 'f1527_46', 'f1826_01', 'f1641_09', 'f1620_12', 'f1596_10', 'f1771_46', 'f1738_42', 'f1108_14', 'f1705_41', 'f1518_07', 'f1659_04', 'f1967_21', 'f1884_05', 'f1578_22', 'f1714_49', 'f1530_18', 'f1781_48', 'f1789_37', 'f2011_41', 'f1989_45', 'f1686_01', 'f1977_23', 'f1779_01', 'f2014_07', 'f2003_18', 'f2041_22', 'f1553_24', 'f1754_35', 'f2070_11', 'f1655_34', 'f1822_45', 'f1514_35', 'f1613_27', 'f1616_04', 'f1770_47', 'f1973_24', 'f2019_34', 'f1968_09', 'f1718_29', 'f2029_03', 'f1982_16', 'f2016_39', 'f1787_36', 'f1547_06', 'f1543_08', 'f1679_05', 'f1702_13', 'f1895_37', 'f2050_45', 'f1964_32', 'f1942_21', 'f1850_16', 'f1737_09', 'f1757_24', 'f1561_30', 'f2059_42', 'f1541_40', 'f0942_17', 'f0871_23', 'f0545_49', 'f0978_05', 'f0758_07', 'f0763_30', 'f0841_10', 'f0666_20', 'f0664_26', 'f0878_21', 'f0919_47', 'f0613_28', 'f0889_48', 'f0947_41', 'f0618_44', 'f0518_02', 'f0908_25', 'f0932_44', 'f0713_17', 'f0894_09', 'f0597_00', 'f0930_07', 'f0582_44', 'f0748_15', 'f0759_41', 'f0641_22', 'f0503_44', 'f0795_37', 'f0957_15', 'f0730_41', 'f0749_12', 'f0783_27', 'f0629_39', 'f0917_11', 'f0675_24', 'f0874_26', 'f0914_27', 'f0640_19', 'f0753_05', 'f0703_11', 'f0876_43', 'f0786_07', 'f0548_49', 'f0843_06', 'f0800_00', 'f0959_27', 'f0570_31', 'f0983_14', 'f0810_40', 'f0785_26', 'f0925_21', 'f0612_11', 'f0809_16', 'f0949_02', 'f0581_30', 'f0696_13', 'f0595_35', 'f0515_18', 'f0779_27', 'f0927_44', 'f0782_49', 'f0522_38', 'f0553_03', 'f0609_12', 'f0697_31', 'f0688_09', 'f0687_43', 'f0707_44', 'f0693_40', 'f0660_10', 'f0926_26', 'f0777_12', 'f0802_22', 'f0886_40', 'f0915_03', 'f0725_46', 'f0857_21', 'f0839_37', 'f0761_10', 'f0516_45', 'f0649_22', 'f0967_29', 'f0655_10', 'f0590_06', 'f0724_37', 'f0861_29', 'f0659_24', 'f0829_00', 'f0729_08', 'f0579_26', 'f0614_14', 'f0611_34', 'f0888_25', 'f0657_41', 'f0838_49', 'f0804_00', 'f0965_28', 'f0931_37', 'f0572_15', 'f0793_02', 'f1660_07', 'f1564_43', 'f1601_01', 'f1791_04', 'f1814_24', 'f1626_27', 'f1874_36', 'f2040_47', 'f1639_38', 'f1674_35', 'f1804_32', 'f1694_17', 'f2034_14', 'f1983_00', 'f1887_23', 'f1756_07', 'f1691_07', 'f2080_34', 'f1656_24', 'f1782_05', 'f1568_21', 'f2010_38', 'f1790_11', 'f1957_41', 'f1882_40', 'f1593_46', 'f1853_42', 'f1894_39', 'f1577_15', 'f1668_08', 'f2084_07', 'f1629_49', 'f1927_01', 'f1589_38', 'f1909_43', 'f1951_19', 'f1614_22', 'f2046_26', 'f1911_44', 'f1979_36', 'f2055_31', 'f1605_44', 'f1835_27', 'f1536_05', 'f1683_30', 'f1517_35', 'f1975_00', 'f1652_11', 'f1868_06', 'f1773_18', 'f1993_19', 'f1906_16', 'f2047_48', 'f2053_20', 'f1986_20', 'f1836_34', 'f1796_21', 'f1777_29', 'f1820_17', 'f1736_04', 'f1959_39', 'f1840_35', 'f1591_47', 'f1625_05', 'f1930_02', 'f1931_49', 'f1710_15', 'f1550_34', 'f1649_03', 'f1855_37', 'f1755_46', 'f1902_10', 'f1678_19', 'f1994_21', 'f1582_49', 'f2057_23', 'f1692_18', 'f1899_19', 'f2051_15', 'f1507_20', 'f2081_42', 'f1889_05', 'f1841_05', 'f1729_47', 'f1584_28', 'f1963_27', 'f2097_31', 'f1708_22', 'f1813_25', 'f1727_36', 'f1673_32', 'f1856_37', 'f1944_40', 'f1669_41', 'f1825_06', 'f1831_15', 'f1748_30', 'f1935_07', 'f1521_17', 'f1725_33'])"
      ]
     },
     "execution_count": 9,
     "metadata": {},
     "output_type": "execute_result"
    }
   ],
   "source": [
    "loader[c].train_dataset['user_data'].keys()"
   ]
  },
  {
   "cell_type": "code",
   "execution_count": null,
   "metadata": {},
   "outputs": [],
   "source": []
  }
 ],
 "metadata": {
  "kernelspec": {
   "display_name": "Python 3",
   "language": "python",
   "name": "python3"
  },
  "language_info": {
   "codemirror_mode": {
    "name": "ipython",
    "version": 3
   },
   "file_extension": ".py",
   "mimetype": "text/x-python",
   "name": "python",
   "nbconvert_exporter": "python",
   "pygments_lexer": "ipython3",
   "version": "3.8.5"
  }
 },
 "nbformat": 4,
 "nbformat_minor": 4
}
