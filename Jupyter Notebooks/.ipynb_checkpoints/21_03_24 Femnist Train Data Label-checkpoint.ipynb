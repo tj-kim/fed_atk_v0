{
 "cells": [
  {
   "cell_type": "markdown",
   "metadata": {},
   "source": [
    "# Femnist Train Data Label\n",
    "\n",
    "TJ Kim <br/>\n",
    "3/24/21\n",
    "\n",
    "Updated <br/>\n",
    "3/24/21\n",
    "\n",
    "#### Objective: \n",
    "Across every \"individual\" user in the training set of Femnist, calculate how many of the labels they have and summarize this value. This will help us analyze how non-iid data works in terms of label distribution."
   ]
  },
  {
   "cell_type": "code",
   "execution_count": 1,
   "metadata": {},
   "outputs": [
    {
     "name": "stdout",
     "output_type": "stream",
     "text": [
      "/home/ubuntu/FedAtk\n"
     ]
    }
   ],
   "source": [
    "cd /home/ubuntu/FedAtk"
   ]
  },
  {
   "cell_type": "markdown",
   "metadata": {},
   "source": [
    "Import relevant libraries."
   ]
  },
  {
   "cell_type": "code",
   "execution_count": 13,
   "metadata": {},
   "outputs": [],
   "source": [
    "from federated_training.femnist_dataloader import *\n",
    "import pandas as pd"
   ]
  },
  {
   "cell_type": "markdown",
   "metadata": {},
   "source": [
    "Load the data (change client_idxs to load x/8th of the data)"
   ]
  },
  {
   "cell_type": "code",
   "execution_count": 3,
   "metadata": {},
   "outputs": [],
   "source": [
    "# Load config file \n",
    "with open(r'configs/config.yaml') as file:\n",
    "    config = yaml.load(file, Loader=yaml.FullLoader)\n",
    "\n",
    "client_idxs= np.arange(2)\n",
    "    \n",
    "# Import Data Loader for this FL set\n",
    "file_indices = [i for i in range(config['num_sets'])]\n",
    "client_slice = len(file_indices)//config['num_clients']"
   ]
  },
  {
   "cell_type": "code",
   "execution_count": 4,
   "metadata": {},
   "outputs": [
    {
     "name": "stdout",
     "output_type": "stream",
     "text": [
      "Loading  all_data_12_niid_0_keep_0_train_9.json\n",
      "Loading  all_data_20_niid_0_keep_0_train_9.json\n",
      "Loading  all_data_11_niid_0_keep_0_train_9.json\n",
      "Loading  all_data_18_niid_0_keep_0_train_9.json\n",
      "Loading  all_data_0_niid_0_keep_0_train_9.json\n",
      "Loading  all_data_34_niid_0_keep_0_train_9.json\n",
      "Loading  all_data_17_niid_0_keep_0_train_9.json\n",
      "Loading  all_data_13_niid_0_keep_0_train_9.json\n"
     ]
    }
   ],
   "source": [
    "loader = {}\n",
    "\n",
    "for client_idx in client_idxs:\n",
    "    # Import the loader for this dataset only\n",
    "    loader[client_idx] = Dataloader(file_indices,[client_idx*(client_slice),min((client_idx+1)*(client_slice),35)])  \n",
    "    loader[client_idx].load_training_dataset()"
   ]
  },
  {
   "cell_type": "markdown",
   "metadata": {},
   "source": [
    "Count the number of hits per user."
   ]
  },
  {
   "cell_type": "code",
   "execution_count": 11,
   "metadata": {},
   "outputs": [],
   "source": [
    "class_count = {}\n",
    "\n",
    "# Obtain Data information about each set\n",
    "for c in client_idxs:\n",
    "    for writer in loader[c].train_dataset['user_data'].keys():\n",
    "        y = np.array(loader[c].train_dataset['user_data'][writer]['y'])\n",
    "        class_i_dict = {}\n",
    "        for i in range(62):\n",
    "            cnt = np.argwhere(y==i).shape[0]\n",
    "            class_i_dict[i] = cnt\n",
    "        class_count[writer] = class_i_dict"
   ]
  },
  {
   "cell_type": "markdown",
   "metadata": {},
   "source": [
    "Write Data to excel file."
   ]
  },
  {
   "cell_type": "code",
   "execution_count": 14,
   "metadata": {},
   "outputs": [],
   "source": [
    "exp_name = '21_3_24 Data - Femnist User Set Labels'\n",
    "exp_path = \"results/\" + exp_name\n",
    "if not os.path.isdir(exp_path):\n",
    "    os.mkdir(exp_path)\n",
    "\n",
    "df1_1 = pd.DataFrame(data=class_count)\n",
    "df1_1.to_excel(exp_path + '/'+'femnist_user_labels.xlsx',header=True)"
   ]
  },
  {
   "cell_type": "code",
   "execution_count": null,
   "metadata": {},
   "outputs": [],
   "source": []
  }
 ],
 "metadata": {
  "kernelspec": {
   "display_name": "Python 3",
   "language": "python",
   "name": "python3"
  },
  "language_info": {
   "codemirror_mode": {
    "name": "ipython",
    "version": 3
   },
   "file_extension": ".py",
   "mimetype": "text/x-python",
   "name": "python",
   "nbconvert_exporter": "python",
   "pygments_lexer": "ipython3",
   "version": "3.8.5"
  }
 },
 "nbformat": 4,
 "nbformat_minor": 4
}
