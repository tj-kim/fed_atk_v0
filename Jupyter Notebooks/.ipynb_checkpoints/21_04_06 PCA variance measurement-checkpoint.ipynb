{
 "cells": [
  {
   "cell_type": "markdown",
   "metadata": {},
   "source": [
    "# PCA Variance Measurement\n",
    "\n",
    "TJ Kim <br/>\n",
    "4/6/21\n",
    "\n",
    "Updated <br/>\n",
    "4/6/21\n",
    "\n",
    "#### Objective: \n",
    "Look further down the dimensions of PCA analysis and observe where there is a \"spike\" in difference between datapoints nth dimension. <br/>\n",
    "\n",
    "Deliverables\n",
    "- Plot the \"explanation\" factor for each dimension that shows probability explained verses nth dimension\n",
    "- Plot the variance per dimension across multiple client pairs (0-->1) (0-->2)"
   ]
  },
  {
   "cell_type": "code",
   "execution_count": 1,
   "metadata": {},
   "outputs": [
    {
     "name": "stdout",
     "output_type": "stream",
     "text": [
      "/home/ubuntu/FedAtk\n"
     ]
    }
   ],
   "source": [
    "cd '/home/ubuntu/FedAtk/' "
   ]
  },
  {
   "cell_type": "markdown",
   "metadata": {},
   "source": [
    "### Load Relevant Libraries and Modules\n",
    "\n",
    "Load the relevant libraries for the federated learning code."
   ]
  },
  {
   "cell_type": "code",
   "execution_count": 2,
   "metadata": {},
   "outputs": [],
   "source": [
    "from transfer_attacks.DA_Transferer import *\n",
    "\n",
    "import numpy as np\n",
    "import torch\n",
    "import matplotlib.pyplot as plt\n",
    "import random\n",
    "import csv\n",
    "import os\n",
    "import pickle\n",
    "from torch.autograd import Variable\n",
    "import copy\n",
    "import pandas as pd"
   ]
  },
  {
   "cell_type": "markdown",
   "metadata": {},
   "source": [
    "### Load Model and data"
   ]
  },
  {
   "cell_type": "code",
   "execution_count": 3,
   "metadata": {},
   "outputs": [],
   "source": [
    "# Make directory in results for this experiment\n",
    "# FL Architecture\n",
    "client_idx = 0\n",
    "victim_idxs = [1,2]\n",
    "ifgsm_iterations = [10]\n",
    "batch_size = 100\n",
    "\n",
    "# Saved Neural Networks to Test on \n",
    "exp_names = [\"exp4_neck2_0_head3\"]\n",
    "\n",
    "# Parameters to record for excel printing\n",
    "num_clients = len(victim_idxs)\n",
    "metrics = ['orig_acc','orig_sim','orig_acc_robust', 'orig_sim_robust', \n",
    "           'orig_acc_adv', 'orig_sim_adv','adv_sim','adv_hit','g_align',\n",
    "           'g_align_robust', 'g_align_adv']\n",
    "\n",
    "# Save 1 - neck2_head3 network per client metric storage\n",
    "stored_per_client_fgsm = {}\n",
    "stored_per_client_fgsm['num_clients'] = np.array(victim_idxs)\n",
    "for i in metrics:\n",
    "    stored_per_client_fgsm[i] = np.zeros(num_clients)"
   ]
  },
  {
   "cell_type": "code",
   "execution_count": 4,
   "metadata": {},
   "outputs": [
    {
     "name": "stdout",
     "output_type": "stream",
     "text": [
      "Loading  all_data_12_niid_0_keep_0_train_9.json\n",
      "Loading  all_data_20_niid_0_keep_0_train_9.json\n",
      "Loading  all_data_11_niid_0_keep_0_train_9.json\n",
      "Loading  all_data_18_niid_0_keep_0_train_9.json\n"
     ]
    },
    {
     "name": "stderr",
     "output_type": "stream",
     "text": [
      "/home/ubuntu/anaconda3/lib/python3.8/site-packages/torch/nn/_reduction.py:43: UserWarning: size_average and reduce args will be deprecated, please use reduction='sum' instead.\n",
      "  warnings.warn(warning.format(ret))\n"
     ]
    },
    {
     "name": "stdout",
     "output_type": "stream",
     "text": [
      "Loading  all_data_0_niid_0_keep_0_train_9.json\n",
      "Loading  all_data_34_niid_0_keep_0_train_9.json\n",
      "Loading  all_data_17_niid_0_keep_0_train_9.json\n",
      "Loading  all_data_13_niid_0_keep_0_train_9.json\n",
      "Loading  all_data_7_niid_0_keep_0_train_9.json\n",
      "Loading  all_data_33_niid_0_keep_0_train_9.json\n",
      "Loading  all_data_24_niid_0_keep_0_train_9.json\n",
      "Loading  all_data_5_niid_0_keep_0_train_9.json\n"
     ]
    }
   ],
   "source": [
    "transferer = DA_Transferer(filename = exp_names[0])\n",
    "transferer.generate_advNN(client_idx = client_idx)\n",
    "transferer.generate_victims(client_idxs = victim_idxs)\n",
    "transferer.load_niid_data(clients=victim_idxs)\n",
    "\n",
    "transferer.ifsgm_params.set_params(batch_size = batch_size)"
   ]
  },
  {
   "cell_type": "markdown",
   "metadata": {},
   "source": [
    "### Perform Attack and Log Metrics"
   ]
  },
  {
   "cell_type": "code",
   "execution_count": 5,
   "metadata": {},
   "outputs": [
    {
     "data": {
      "text/html": [
       "<div>\n",
       "<style scoped>\n",
       "    .dataframe tbody tr th:only-of-type {\n",
       "        vertical-align: middle;\n",
       "    }\n",
       "\n",
       "    .dataframe tbody tr th {\n",
       "        vertical-align: top;\n",
       "    }\n",
       "\n",
       "    .dataframe thead th {\n",
       "        text-align: right;\n",
       "    }\n",
       "</style>\n",
       "<table border=\"1\" class=\"dataframe\">\n",
       "  <thead>\n",
       "    <tr style=\"text-align: right;\">\n",
       "      <th></th>\n",
       "      <th>0</th>\n",
       "      <th>1</th>\n",
       "    </tr>\n",
       "  </thead>\n",
       "  <tbody>\n",
       "    <tr>\n",
       "      <th>num_clients</th>\n",
       "      <td>1.000000</td>\n",
       "      <td>2.000000</td>\n",
       "    </tr>\n",
       "    <tr>\n",
       "      <th>orig_acc</th>\n",
       "      <td>0.810000</td>\n",
       "      <td>0.810000</td>\n",
       "    </tr>\n",
       "    <tr>\n",
       "      <th>orig_sim</th>\n",
       "      <td>0.600000</td>\n",
       "      <td>0.610000</td>\n",
       "    </tr>\n",
       "    <tr>\n",
       "      <th>orig_acc_robust</th>\n",
       "      <td>0.960000</td>\n",
       "      <td>0.882353</td>\n",
       "    </tr>\n",
       "    <tr>\n",
       "      <th>orig_sim_robust</th>\n",
       "      <td>0.640000</td>\n",
       "      <td>0.588235</td>\n",
       "    </tr>\n",
       "    <tr>\n",
       "      <th>orig_acc_adv</th>\n",
       "      <td>0.660000</td>\n",
       "      <td>0.772727</td>\n",
       "    </tr>\n",
       "    <tr>\n",
       "      <th>orig_sim_adv</th>\n",
       "      <td>0.560000</td>\n",
       "      <td>0.621212</td>\n",
       "    </tr>\n",
       "    <tr>\n",
       "      <th>adv_sim</th>\n",
       "      <td>0.500000</td>\n",
       "      <td>0.660000</td>\n",
       "    </tr>\n",
       "    <tr>\n",
       "      <th>adv_hit</th>\n",
       "      <td>0.500000</td>\n",
       "      <td>0.660000</td>\n",
       "    </tr>\n",
       "    <tr>\n",
       "      <th>g_align</th>\n",
       "      <td>1.129214</td>\n",
       "      <td>1.129928</td>\n",
       "    </tr>\n",
       "    <tr>\n",
       "      <th>g_align_robust</th>\n",
       "      <td>1.039069</td>\n",
       "      <td>1.193884</td>\n",
       "    </tr>\n",
       "    <tr>\n",
       "      <th>g_align_adv</th>\n",
       "      <td>1.129214</td>\n",
       "      <td>1.129928</td>\n",
       "    </tr>\n",
       "  </tbody>\n",
       "</table>\n",
       "</div>"
      ],
      "text/plain": [
       "                        0         1\n",
       "num_clients      1.000000  2.000000\n",
       "orig_acc         0.810000  0.810000\n",
       "orig_sim         0.600000  0.610000\n",
       "orig_acc_robust  0.960000  0.882353\n",
       "orig_sim_robust  0.640000  0.588235\n",
       "orig_acc_adv     0.660000  0.772727\n",
       "orig_sim_adv     0.560000  0.621212\n",
       "adv_sim          0.500000  0.660000\n",
       "adv_hit          0.500000  0.660000\n",
       "g_align          1.129214  1.129928\n",
       "g_align_robust   1.039069  1.193884\n",
       "g_align_adv      1.129214  1.129928"
      ]
     },
     "execution_count": 5,
     "metadata": {},
     "output_type": "execute_result"
    }
   ],
   "source": [
    "transferer.ifsgm_params.set_params(iteration = ifgsm_iterations[0])\n",
    "transferer.generate_xadv(atk_type = \"ifsgm\")\n",
    "transferer.send_to_victims(victim_idxs)\n",
    "transferer.check_empirical_metrics(orig_flag = True)\n",
    "\n",
    "for i in range(len(victim_idxs)):\n",
    "    j = victim_idxs[i]\n",
    "    \n",
    "    stored_per_client_fgsm['orig_acc'][i] = transferer.orig_acc_transfers[j]\n",
    "    stored_per_client_fgsm['orig_sim'][i] = transferer.orig_similarities[j]\n",
    "    stored_per_client_fgsm['adv_sim'][i] = transferer.adv_similarities[j]\n",
    "    stored_per_client_fgsm['adv_hit'][i] = transferer.adv_target_hit[j]\n",
    "    stored_per_client_fgsm['g_align'][i] = transferer.metric_alignment[j]\n",
    "    \n",
    "    stored_per_client_fgsm['orig_acc_robust'][i] = transferer.orig_acc_transfers_robust[j]\n",
    "    stored_per_client_fgsm['orig_sim_robust'][i] = transferer.orig_similarities_robust[j]\n",
    "    stored_per_client_fgsm['orig_acc_adv'][i] = transferer.orig_acc_transfers_adv[j]\n",
    "    stored_per_client_fgsm['orig_sim_adv'][i] = transferer.orig_similarities_adv[j]\n",
    "    \n",
    "    stored_per_client_fgsm['g_align_robust'][i] = transferer.metric_alignment_robust[j]\n",
    "    stored_per_client_fgsm['g_align_adv'][i] = transferer.metric_alignment_adv[j]\n",
    "\n",
    "    \n",
    "df3 = pd.DataFrame(data=stored_per_client_fgsm).T\n",
    "df3"
   ]
  },
  {
   "cell_type": "markdown",
   "metadata": {},
   "source": [
    "### Obtain Multiple dimensions for PCA"
   ]
  },
  {
   "cell_type": "code",
   "execution_count": 40,
   "metadata": {},
   "outputs": [],
   "source": [
    "# Plot data storage\n",
    "num_PCA_dim = 10\n",
    "store_PCA_diff = np.zeros([len(victim_idxs),2,num_PCA_dim])\n",
    "\n",
    "transferer.set_data(mode='client', datasets = victim_idxs, batch_size = batch_size)\n",
    "transferer.set_data_advNN()\n",
    "transferer.forward_pass()\n",
    "\n",
    "# Loop through each user here\n",
    "for i in range(len(victim_idxs)):\n",
    "    j = victim_idxs[i]\n",
    "    transferer.obtain_PCA(analyze_atk = True, advrobust_idx = j, dim=num_PCA_dim)\n",
    "    data = transferer.PCA_data\n",
    "    filtered_data = {}\n",
    "    explained_var_ratio = transferer.explained_var_ratio\n",
    "    \n",
    "    targets = [[victim_idxs[i],0],[victim_idxs[i],1],[victim_idxs[i],2]]\n",
    "    \n",
    "    for target in targets:\n",
    "        idx_temp0 = transferer.PCA_data['labels'][:,0] == target[0]\n",
    "        idx_temp1 = transferer.PCA_data['labels'][:,1] == target[1]\n",
    "\n",
    "        indicesToKeep = idx_temp0 * idx_temp1\n",
    "        \n",
    "        filtered_data[target[1]] = data['data'][indicesToKeep]\n",
    "    \n",
    "    adv_pca = np.mean(filtered_data[1],axis=0) - np.mean(filtered_data[0],axis=0)\n",
    "    robust_pca = np.mean(filtered_data[2],axis=0) - np.mean(filtered_data[0],axis=0)\n",
    "    \n",
    "    # Generate two plots"
   ]
  },
  {
   "cell_type": "code",
   "execution_count": 39,
   "metadata": {},
   "outputs": [
    {
     "data": {
      "text/plain": [
       "array([-2.73994584,  0.13669006, -1.07305928,  0.77575332, -0.43512747,\n",
       "       -2.22733156,  0.24756661, -0.61459024, -0.54539274,  0.54703835])"
      ]
     },
     "execution_count": 39,
     "metadata": {},
     "output_type": "execute_result"
    }
   ],
   "source": [
    "adv_pca"
   ]
  },
  {
   "cell_type": "code",
   "execution_count": 41,
   "metadata": {},
   "outputs": [
    {
     "data": {
      "text/plain": [
       "array([-0.87066286, -3.1380156 , -3.29984733,  2.91827102, -1.47991722,\n",
       "       -2.82805197, -1.88795394, -0.24294175,  1.16071549,  1.0442999 ])"
      ]
     },
     "execution_count": 41,
     "metadata": {},
     "output_type": "execute_result"
    }
   ],
   "source": [
    "robust_pca"
   ]
  },
  {
   "cell_type": "code",
   "execution_count": 27,
   "metadata": {},
   "outputs": [
    {
     "data": {
      "text/plain": [
       "array([False, False, False, False, False, False, False, False, False,\n",
       "       False, False, False, False, False, False, False, False, False,\n",
       "       False, False, False, False, False, False, False, False, False,\n",
       "       False, False, False, False, False, False, False, False, False,\n",
       "       False, False, False, False, False, False, False, False, False,\n",
       "       False, False, False, False, False, False, False, False, False,\n",
       "       False, False, False, False, False, False, False, False, False,\n",
       "       False, False, False, False, False, False, False, False, False,\n",
       "       False, False, False, False, False, False, False, False, False,\n",
       "       False, False, False, False, False, False, False, False, False,\n",
       "       False, False, False, False, False, False, False, False, False,\n",
       "       False, False, False, False, False, False, False, False, False,\n",
       "       False, False, False, False, False, False, False, False, False,\n",
       "       False, False, False, False, False, False, False, False, False,\n",
       "       False, False, False, False, False, False, False, False, False,\n",
       "       False, False, False, False, False, False, False, False, False,\n",
       "       False, False, False, False, False, False, False, False, False,\n",
       "       False, False, False, False, False, False, False, False, False,\n",
       "       False, False, False, False, False, False, False, False, False,\n",
       "       False, False, False, False, False, False, False, False, False,\n",
       "       False, False, False, False, False, False, False, False, False,\n",
       "       False, False, False, False, False, False, False, False, False,\n",
       "       False, False, False, False, False, False, False, False, False,\n",
       "       False, False, False, False, False, False, False, False, False,\n",
       "       False, False, False, False, False, False, False, False, False,\n",
       "       False, False, False, False, False, False, False, False, False,\n",
       "       False, False, False, False, False, False, False, False, False,\n",
       "       False, False, False, False, False, False, False, False, False,\n",
       "       False, False, False, False, False, False, False, False, False,\n",
       "       False, False, False, False, False,  True,  True,  True,  True,\n",
       "        True,  True,  True,  True,  True,  True,  True,  True,  True,\n",
       "        True,  True,  True,  True,  True,  True,  True,  True,  True,\n",
       "        True,  True,  True,  True,  True,  True,  True,  True,  True,\n",
       "        True,  True,  True])"
      ]
     },
     "execution_count": 27,
     "metadata": {},
     "output_type": "execute_result"
    }
   ],
   "source": [
    "indicesToKeep"
   ]
  },
  {
   "cell_type": "code",
   "execution_count": null,
   "metadata": {},
   "outputs": [],
   "source": []
  }
 ],
 "metadata": {
  "kernelspec": {
   "display_name": "Python 3",
   "language": "python",
   "name": "python3"
  },
  "language_info": {
   "codemirror_mode": {
    "name": "ipython",
    "version": 3
   },
   "file_extension": ".py",
   "mimetype": "text/x-python",
   "name": "python",
   "nbconvert_exporter": "python",
   "pygments_lexer": "ipython3",
   "version": "3.8.5"
  }
 },
 "nbformat": 4,
 "nbformat_minor": 4
}
