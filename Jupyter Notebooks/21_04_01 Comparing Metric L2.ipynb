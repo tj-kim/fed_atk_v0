{
 "cells": [
  {
   "cell_type": "markdown",
   "metadata": {},
   "source": [
    "# Comparing Metric to Dataset Analysis L2\n",
    "\n",
    "TJ Kim <br/>\n",
    "4/1/21\n",
    "\n",
    "Updated <br/>\n",
    "4/1/21\n",
    "\n",
    "#### Objective: \n",
    "Directly compare the adversarial attack data vs non: <br/>\n",
    "\n",
    "Deliverables\n",
    "- Same tables as PPT made in 3/9 dividing data points by attack success and analyzing by their metrics\n",
    "- Gaussian Attribution L2 Distance"
   ]
  },
  {
   "cell_type": "code",
   "execution_count": 1,
   "metadata": {},
   "outputs": [],
   "source": [
    "cd '/home/ubuntu/FedAtk/' "
   ]
  },
  {
   "cell_type": "markdown",
   "metadata": {},
   "source": [
    "### Load Relevant Libraries and Modules\n",
    "\n",
    "Load the relevant libraries for the federated learning code."
   ]
  },
  {
   "cell_type": "code",
   "execution_count": 2,
   "metadata": {},
   "outputs": [],
   "source": [
    "from transfer_attacks.DA_Transferer import *\n",
    "\n",
    "import numpy as np\n",
    "import torch\n",
    "import matplotlib.pyplot as plt\n",
    "import random\n",
    "import csv\n",
    "import os\n",
    "import pickle\n",
    "from torch.autograd import Variable\n",
    "import copy\n",
    "import pandas as pd"
   ]
  },
  {
   "cell_type": "markdown",
   "metadata": {},
   "source": [
    "### Load Model and data"
   ]
  },
  {
   "cell_type": "code",
   "execution_count": 48,
   "metadata": {},
   "outputs": [],
   "source": [
    "# Make directory in results for this experiment\n",
    "# FL Architecture\n",
    "client_idx = 0\n",
    "victim_idxs = [1,2,3]\n",
    "ifgsm_iterations = [20]\n",
    "batch_size = 1000\n",
    "\n",
    "# Saved Neural Networks to Test on \n",
    "exp_names = [\"exp4_neck2_0_head3\"]\n",
    "\n",
    "# Parameters to record for excel printing\n",
    "num_clients = len(victim_idxs)\n",
    "metrics = ['orig_acc','orig_sim','orig_acc_robust', 'orig_sim_robust', \n",
    "           'orig_acc_adv', 'orig_sim_adv','adv_sim','adv_hit','g_align',\n",
    "           'g_align_robust', 'g_align_adv']\n",
    "\n",
    "# Save 1 - neck2_head3 network per client metric storage\n",
    "stored_per_client_fgsm = {}\n",
    "stored_per_client_fgsm['num_clients'] = np.array(victim_idxs)\n",
    "for i in metrics:\n",
    "    stored_per_client_fgsm[i] = np.zeros(num_clients)"
   ]
  },
  {
   "cell_type": "code",
   "execution_count": 4,
   "metadata": {},
   "outputs": [
    {
     "name": "stdout",
     "output_type": "stream",
     "text": [
      "Loading  all_data_12_niid_0_keep_0_train_9.json\n",
      "Loading  all_data_20_niid_0_keep_0_train_9.json\n",
      "Loading  all_data_11_niid_0_keep_0_train_9.json\n",
      "Loading  all_data_18_niid_0_keep_0_train_9.json\n"
     ]
    },
    {
     "name": "stderr",
     "output_type": "stream",
     "text": [
      "/home/ubuntu/anaconda3/lib/python3.8/site-packages/torch/nn/_reduction.py:43: UserWarning: size_average and reduce args will be deprecated, please use reduction='sum' instead.\n",
      "  warnings.warn(warning.format(ret))\n"
     ]
    },
    {
     "name": "stdout",
     "output_type": "stream",
     "text": [
      "Loading  all_data_0_niid_0_keep_0_train_9.json\n",
      "Loading  all_data_34_niid_0_keep_0_train_9.json\n",
      "Loading  all_data_17_niid_0_keep_0_train_9.json\n",
      "Loading  all_data_13_niid_0_keep_0_train_9.json\n",
      "Loading  all_data_7_niid_0_keep_0_train_9.json\n",
      "Loading  all_data_33_niid_0_keep_0_train_9.json\n",
      "Loading  all_data_24_niid_0_keep_0_train_9.json\n",
      "Loading  all_data_5_niid_0_keep_0_train_9.json\n",
      "Loading  all_data_27_niid_0_keep_0_train_9.json\n",
      "Loading  all_data_26_niid_0_keep_0_train_9.json\n",
      "Loading  all_data_21_niid_0_keep_0_train_9.json\n",
      "Loading  all_data_10_niid_0_keep_0_train_9.json\n"
     ]
    }
   ],
   "source": [
    "transferer = DA_Transferer(filename = exp_names[0])\n",
    "transferer.generate_advNN(client_idx = client_idx)\n",
    "transferer.generate_victims(client_idxs = victim_idxs)\n",
    "transferer.load_niid_data(clients=victim_idxs)\n",
    "\n",
    "transferer.ifsgm_params.set_params(batch_size = batch_size)"
   ]
  },
  {
   "cell_type": "markdown",
   "metadata": {},
   "source": [
    "### Perform attack and log empirical metrics"
   ]
  },
  {
   "cell_type": "code",
   "execution_count": 49,
   "metadata": {},
   "outputs": [
    {
     "data": {
      "text/html": [
       "<div>\n",
       "<style scoped>\n",
       "    .dataframe tbody tr th:only-of-type {\n",
       "        vertical-align: middle;\n",
       "    }\n",
       "\n",
       "    .dataframe tbody tr th {\n",
       "        vertical-align: top;\n",
       "    }\n",
       "\n",
       "    .dataframe thead th {\n",
       "        text-align: right;\n",
       "    }\n",
       "</style>\n",
       "<table border=\"1\" class=\"dataframe\">\n",
       "  <thead>\n",
       "    <tr style=\"text-align: right;\">\n",
       "      <th></th>\n",
       "      <th>0</th>\n",
       "      <th>1</th>\n",
       "      <th>2</th>\n",
       "    </tr>\n",
       "  </thead>\n",
       "  <tbody>\n",
       "    <tr>\n",
       "      <th>num_clients</th>\n",
       "      <td>1.000000</td>\n",
       "      <td>2.000000</td>\n",
       "      <td>3.000000</td>\n",
       "    </tr>\n",
       "    <tr>\n",
       "      <th>orig_acc</th>\n",
       "      <td>0.820000</td>\n",
       "      <td>0.827000</td>\n",
       "      <td>0.606000</td>\n",
       "    </tr>\n",
       "    <tr>\n",
       "      <th>orig_sim</th>\n",
       "      <td>0.678000</td>\n",
       "      <td>0.660000</td>\n",
       "      <td>0.823000</td>\n",
       "    </tr>\n",
       "    <tr>\n",
       "      <th>orig_acc_robust</th>\n",
       "      <td>0.843058</td>\n",
       "      <td>0.840831</td>\n",
       "      <td>0.695652</td>\n",
       "    </tr>\n",
       "    <tr>\n",
       "      <th>orig_sim_robust</th>\n",
       "      <td>0.710262</td>\n",
       "      <td>0.647059</td>\n",
       "      <td>0.760870</td>\n",
       "    </tr>\n",
       "    <tr>\n",
       "      <th>orig_acc_adv</th>\n",
       "      <td>0.797217</td>\n",
       "      <td>0.821378</td>\n",
       "      <td>0.601677</td>\n",
       "    </tr>\n",
       "    <tr>\n",
       "      <th>orig_sim_adv</th>\n",
       "      <td>0.646123</td>\n",
       "      <td>0.665260</td>\n",
       "      <td>0.825996</td>\n",
       "    </tr>\n",
       "    <tr>\n",
       "      <th>adv_sim</th>\n",
       "      <td>0.503000</td>\n",
       "      <td>0.711000</td>\n",
       "      <td>0.954000</td>\n",
       "    </tr>\n",
       "    <tr>\n",
       "      <th>adv_hit</th>\n",
       "      <td>0.503000</td>\n",
       "      <td>0.711000</td>\n",
       "      <td>0.954000</td>\n",
       "    </tr>\n",
       "    <tr>\n",
       "      <th>g_align</th>\n",
       "      <td>1.124385</td>\n",
       "      <td>1.168885</td>\n",
       "      <td>0.989667</td>\n",
       "    </tr>\n",
       "    <tr>\n",
       "      <th>g_align_robust</th>\n",
       "      <td>1.138965</td>\n",
       "      <td>1.214441</td>\n",
       "      <td>1.074267</td>\n",
       "    </tr>\n",
       "    <tr>\n",
       "      <th>g_align_adv</th>\n",
       "      <td>1.124385</td>\n",
       "      <td>1.168885</td>\n",
       "      <td>0.989667</td>\n",
       "    </tr>\n",
       "  </tbody>\n",
       "</table>\n",
       "</div>"
      ],
      "text/plain": [
       "                        0         1         2\n",
       "num_clients      1.000000  2.000000  3.000000\n",
       "orig_acc         0.820000  0.827000  0.606000\n",
       "orig_sim         0.678000  0.660000  0.823000\n",
       "orig_acc_robust  0.843058  0.840831  0.695652\n",
       "orig_sim_robust  0.710262  0.647059  0.760870\n",
       "orig_acc_adv     0.797217  0.821378  0.601677\n",
       "orig_sim_adv     0.646123  0.665260  0.825996\n",
       "adv_sim          0.503000  0.711000  0.954000\n",
       "adv_hit          0.503000  0.711000  0.954000\n",
       "g_align          1.124385  1.168885  0.989667\n",
       "g_align_robust   1.138965  1.214441  1.074267\n",
       "g_align_adv      1.124385  1.168885  0.989667"
      ]
     },
     "execution_count": 49,
     "metadata": {},
     "output_type": "execute_result"
    }
   ],
   "source": [
    "transferer.ifsgm_params.set_params(iteration = ifgsm_iterations[0])\n",
    "transferer.generate_xadv(atk_type = \"ifsgm\")\n",
    "transferer.send_to_victims(victim_idxs)\n",
    "transferer.check_empirical_metrics(orig_flag = True)\n",
    "\n",
    "for i in range(len(victim_idxs)):\n",
    "    j = victim_idxs[i]\n",
    "    \n",
    "    stored_per_client_fgsm['orig_acc'][i] = transferer.orig_acc_transfers[j]\n",
    "    stored_per_client_fgsm['orig_sim'][i] = transferer.orig_similarities[j]\n",
    "    stored_per_client_fgsm['adv_sim'][i] = transferer.adv_similarities[j]\n",
    "    stored_per_client_fgsm['adv_hit'][i] = transferer.adv_target_hit[j]\n",
    "    stored_per_client_fgsm['g_align'][i] = transferer.metric_alignment[j]\n",
    "    \n",
    "    stored_per_client_fgsm['orig_acc_robust'][i] = transferer.orig_acc_transfers_robust[j]\n",
    "    stored_per_client_fgsm['orig_sim_robust'][i] = transferer.orig_similarities_robust[j]\n",
    "    stored_per_client_fgsm['orig_acc_adv'][i] = transferer.orig_acc_transfers_adv[j]\n",
    "    stored_per_client_fgsm['orig_sim_adv'][i] = transferer.orig_similarities_adv[j]\n",
    "    \n",
    "    stored_per_client_fgsm['g_align_robust'][i] = transferer.metric_alignment_robust[j]\n",
    "    stored_per_client_fgsm['g_align_adv'][i] = transferer.metric_alignment_adv[j]\n",
    "\n",
    "    \n",
    "df3 = pd.DataFrame(data=stored_per_client_fgsm).T\n",
    "df3"
   ]
  },
  {
   "cell_type": "markdown",
   "metadata": {},
   "source": [
    "### Gaussian Analysis\n",
    "\n",
    "Go through computing the Gaussian of each client component "
   ]
  },
  {
   "cell_type": "code",
   "execution_count": 67,
   "metadata": {},
   "outputs": [],
   "source": [
    "# Build logging mechanism for pd output\n",
    "# Save 1 - neck2_head3 network per client metric storage\n",
    "gaussian_mean_L2 = {}\n",
    "gaussian_mean_L2['num_clients'] = np.array(victim_idxs)\n",
    "metrics = ['Robust Count', 'Adv Count','Robust L2 Norm','Adv L2 Norm']\n",
    "for i in metrics:\n",
    "    gaussian_mean_L2[i] = np.zeros(len(victim_idxs))"
   ]
  },
  {
   "cell_type": "code",
   "execution_count": 50,
   "metadata": {},
   "outputs": [],
   "source": [
    "# Compute Gaussian Mean/STD for benign client data and robust/adv attacker data\n",
    "transferer.set_data(mode='client', datasets = victim_idxs, batch_size = batch_size)\n",
    "transferer.set_data_advNN()\n",
    "transferer.forward_pass()\n",
    "transferer.obtain_gaussian()"
   ]
  },
  {
   "cell_type": "code",
   "execution_count": 68,
   "metadata": {},
   "outputs": [
    {
     "data": {
      "text/html": [
       "<div>\n",
       "<style scoped>\n",
       "    .dataframe tbody tr th:only-of-type {\n",
       "        vertical-align: middle;\n",
       "    }\n",
       "\n",
       "    .dataframe tbody tr th {\n",
       "        vertical-align: top;\n",
       "    }\n",
       "\n",
       "    .dataframe thead th {\n",
       "        text-align: right;\n",
       "    }\n",
       "</style>\n",
       "<table border=\"1\" class=\"dataframe\">\n",
       "  <thead>\n",
       "    <tr style=\"text-align: right;\">\n",
       "      <th></th>\n",
       "      <th>0</th>\n",
       "      <th>1</th>\n",
       "      <th>2</th>\n",
       "    </tr>\n",
       "  </thead>\n",
       "  <tbody>\n",
       "    <tr>\n",
       "      <th>num_clients</th>\n",
       "      <td>1.000000</td>\n",
       "      <td>2.000000</td>\n",
       "      <td>3.000000</td>\n",
       "    </tr>\n",
       "    <tr>\n",
       "      <th>Robust Count</th>\n",
       "      <td>497.000000</td>\n",
       "      <td>289.000000</td>\n",
       "      <td>46.000000</td>\n",
       "    </tr>\n",
       "    <tr>\n",
       "      <th>Adv Count</th>\n",
       "      <td>503.000000</td>\n",
       "      <td>711.000000</td>\n",
       "      <td>954.000000</td>\n",
       "    </tr>\n",
       "    <tr>\n",
       "      <th>Robust L2 Norm</th>\n",
       "      <td>4.403293</td>\n",
       "      <td>5.272386</td>\n",
       "      <td>8.440570</td>\n",
       "    </tr>\n",
       "    <tr>\n",
       "      <th>Adv L2 Norm</th>\n",
       "      <td>2.604424</td>\n",
       "      <td>2.721167</td>\n",
       "      <td>3.125628</td>\n",
       "    </tr>\n",
       "  </tbody>\n",
       "</table>\n",
       "</div>"
      ],
      "text/plain": [
       "                         0           1           2\n",
       "num_clients       1.000000    2.000000    3.000000\n",
       "Robust Count    497.000000  289.000000   46.000000\n",
       "Adv Count       503.000000  711.000000  954.000000\n",
       "Robust L2 Norm    4.403293    5.272386    8.440570\n",
       "Adv L2 Norm       2.604424    2.721167    3.125628"
      ]
     },
     "execution_count": 68,
     "metadata": {},
     "output_type": "execute_result"
    }
   ],
   "source": [
    "for i in range(len(victim_idxs)):\n",
    "    j = victim_idxs[i]\n",
    "    gaussian_mean_L2['Robust Count'][i] = torch.sum(transferer.robust_indices[j]).cpu().detach().numpy()\n",
    "    gaussian_mean_L2['Adv Count'][i] = torch.sum(transferer.adv_indices[j]).cpu().detach().numpy()\n",
    "    gaussian_mean_L2['Robust L2 Norm'][i] = torch.norm(transferer.gaussian_ustd[j]['mean'] - transferer.robust_gaussian_ustd[j]['mean']).cpu().detach().numpy()\n",
    "    gaussian_mean_L2['Adv L2 Norm'][i] = torch.norm(transferer.gaussian_ustd[j]['mean'] - transferer.adv_gaussian_ustd[j]['mean']).cpu().detach().numpy()\n",
    "    \n",
    "\n",
    "df4 = pd.DataFrame(data=gaussian_mean_L2).T\n",
    "df4"
   ]
  }
 ],
 "metadata": {
  "kernelspec": {
   "display_name": "Python 3",
   "language": "python",
   "name": "python3"
  },
  "language_info": {
   "codemirror_mode": {
    "name": "ipython",
    "version": 3
   },
   "file_extension": ".py",
   "mimetype": "text/x-python",
   "name": "python",
   "nbconvert_exporter": "python",
   "pygments_lexer": "ipython3",
   "version": "3.8.5"
  }
 },
 "nbformat": 4,
 "nbformat_minor": 4
}
