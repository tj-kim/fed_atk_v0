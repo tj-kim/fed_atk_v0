{
 "cells": [
  {
   "cell_type": "markdown",
   "metadata": {},
   "source": [
    "# Copy Toy Model\n",
    "\n",
    "TJ Kim\n",
    "\n",
    "12.22.20\n",
    "\n",
    "### Summary:\n",
    "\n",
    "Copy the toy model from toynet.py in the FGSM attack code.\n",
    "The ultimate goal is to make it the shape of neck + head networks and load the pre-trained weights into them.\n",
    "\n",
    "We should add the weight load functionality innately."
   ]
  },
  {
   "cell_type": "code",
   "execution_count": 1,
   "metadata": {},
   "outputs": [],
   "source": [
    "import torch.nn as nn\n",
    "\n",
    "class ToyNet(nn.Module):\n",
    "    def __init__(self, x_dim=784, y_dim=63):\n",
    "        super(ToyNet, self).__init__()\n",
    "        self.x_dim = x_dim\n",
    "        self.y_dim = y_dim\n",
    "\n",
    "        self.mlp = nn.Sequential(\n",
    "            nn.Linear(self.x_dim, 300),\n",
    "            nn.ReLU(True),\n",
    "            nn.Linear(300, 150),\n",
    "            nn.ReLU(True),\n",
    "            nn.Linear(150, self.y_dim)\n",
    "            )\n",
    "\n",
    "    def forward(self, X):\n",
    "        if X.dim() > 2:\n",
    "            X = X.view(X.size(0), -1)\n",
    "        out = self.mlp(X)\n",
    "\n",
    "        return out\n",
    "\n",
    "    def weight_init(self, _type='kaiming'):\n",
    "        if _type == 'kaiming':\n",
    "            for ms in self._modules:\n",
    "                kaiming_init(self._modules[ms].parameters())\n"
   ]
  },
  {
   "cell_type": "code",
   "execution_count": null,
   "metadata": {},
   "outputs": [],
   "source": []
  }
 ],
 "metadata": {
  "kernelspec": {
   "display_name": "Python 3",
   "language": "python",
   "name": "python3"
  },
  "language_info": {
   "codemirror_mode": {
    "name": "ipython",
    "version": 3
   },
   "file_extension": ".py",
   "mimetype": "text/x-python",
   "name": "python",
   "nbconvert_exporter": "python",
   "pygments_lexer": "ipython3",
   "version": "3.8.5"
  }
 },
 "nbformat": 4,
 "nbformat_minor": 4
}
