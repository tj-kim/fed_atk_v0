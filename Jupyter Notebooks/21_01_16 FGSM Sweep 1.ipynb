{
 "cells": [
  {
   "cell_type": "markdown",
   "metadata": {},
   "source": [
    "# FGSM Sweep 1\n",
    "\n",
    "TJ Kim <br/>\n",
    "1/16/21\n",
    "\n",
    "Updated <br/>\n",
    "2/15/21\n",
    "\n",
    "#### Objective: \n",
    "Run FGSM attack on different number of head layers in federated learning and observe performance,\n"
   ]
  },
  {
   "cell_type": "code",
   "execution_count": 1,
   "metadata": {},
   "outputs": [],
   "source": [
    "cd '/home/ubuntu/FedAtk/' "
   ]
  },
  {
   "cell_type": "markdown",
   "metadata": {},
   "source": [
    "### Load Relevant Libraries and Modules\n",
    "\n",
    "Load the relevant libraries for the federated learning code."
   ]
  },
  {
   "cell_type": "code",
   "execution_count": 2,
   "metadata": {},
   "outputs": [],
   "source": [
    "import torch\n",
    "\n",
    "# Transferer\n",
    "from transfer_attacks.Transferer import *\n",
    "from transfer_attacks.Params import *"
   ]
  },
  {
   "cell_type": "markdown",
   "metadata": {},
   "source": [
    "### Transfer Attack Sweeping Different Configs"
   ]
  },
  {
   "cell_type": "code",
   "execution_count": 3,
   "metadata": {},
   "outputs": [
    {
     "name": "stdout",
     "output_type": "stream",
     "text": [
      "Loading  all_data_12_niid_0_keep_0_train_9.json\n",
      "Loading  all_data_20_niid_0_keep_0_train_9.json\n",
      "Loading  all_data_11_niid_0_keep_0_train_9.json\n",
      "Loading  all_data_18_niid_0_keep_0_train_9.json\n"
     ]
    },
    {
     "name": "stderr",
     "output_type": "stream",
     "text": [
      "/home/ubuntu/anaconda3/lib/python3.8/site-packages/torch/nn/_reduction.py:43: UserWarning: size_average and reduce args will be deprecated, please use reduction='sum' instead.\n",
      "  warnings.warn(warning.format(ret))\n"
     ]
    }
   ],
   "source": [
    "client_idx = 0\n",
    "victim_idxs = [0,1,2,3]\n",
    "\n",
    "transferer = Transferer(filename = 'exp2_neck2_head3')\n",
    "transferer.generate_advNN(client_idx = client_idx)\n",
    "transferer.generate_victims(client_idxs = victim_idxs)\n",
    "# transferer.ifsgm_params = IFSGM_Params()\n",
    "\n"
   ]
  },
  {
   "cell_type": "code",
   "execution_count": 9,
   "metadata": {},
   "outputs": [],
   "source": [
    "transferer.generate_xadv(atk_type = \"cw\")\n",
    "transferer.send_to_victims(victim_idxs)"
   ]
  },
  {
   "cell_type": "code",
   "execution_count": 10,
   "metadata": {},
   "outputs": [
    {
     "name": "stdout",
     "output_type": "stream",
     "text": [
      "orig_acc_transfers\n",
      " tensor(0.8000, device='cuda:0')\n",
      "orig_similarities\n",
      " tensor(0.8000, device='cuda:0')\n",
      "orig_target_hit\n",
      " tensor(0., device='cuda:0')\n",
      "adv_acc_transfers\n",
      " tensor(0.1000, device='cuda:0')\n",
      "adv_similarities\n",
      " tensor(0., device='cuda:0')\n",
      "adv_target_hit\n",
      " tensor(0., device='cuda:0')\n"
     ]
    }
   ],
   "source": [
    "j = 2\n",
    "\n",
    "print(\"orig_acc_transfers\\n\",transferer.orig_acc_transfers[j])\n",
    "print(\"orig_similarities\\n\",transferer.orig_similarities[j])\n",
    "print(\"orig_target_hit\\n\",transferer.orig_target_hit[j])\n",
    "print(\"adv_acc_transfers\\n\",transferer.adv_acc_transfers[j])\n",
    "print(\"adv_similarities\\n\",transferer.adv_similarities[j])\n",
    "print(\"adv_target_hit\\n\",transferer.adv_target_hit[j])"
   ]
  },
  {
   "cell_type": "code",
   "execution_count": 11,
   "metadata": {},
   "outputs": [
    {
     "data": {
      "text/plain": [
       "tensor([30,  7,  2,  4, 43,  3,  2, 15,  6,  4], device='cuda:0')"
      ]
     },
     "execution_count": 11,
     "metadata": {},
     "output_type": "execute_result"
    }
   ],
   "source": [
    "transferer.y_true"
   ]
  },
  {
   "cell_type": "code",
   "execution_count": 12,
   "metadata": {},
   "outputs": [
    {
     "data": {
      "text/plain": [
       "tensor([30,  7,  2,  4, 43,  3,  2, 15,  6,  4], device='cuda:0')"
      ]
     },
     "execution_count": 12,
     "metadata": {},
     "output_type": "execute_result"
    }
   ],
   "source": [
    "torch.argmax(transferer.advNN(transferer.x_orig),dim=1)"
   ]
  },
  {
   "cell_type": "code",
   "execution_count": 13,
   "metadata": {},
   "outputs": [
    {
     "data": {
      "text/plain": [
       "tensor([20, 20, 20, 20, 20, 20, 20, 20, 20, 20], device='cuda:0')"
      ]
     },
     "execution_count": 13,
     "metadata": {},
     "output_type": "execute_result"
    }
   ],
   "source": [
    "torch.argmax(transferer.advNN(transferer.x_adv),dim=1)"
   ]
  },
  {
   "cell_type": "code",
   "execution_count": 14,
   "metadata": {},
   "outputs": [
    {
     "data": {
      "text/plain": [
       "tensor([46, 34, 34, 17, 46, 46,  4, 34, 17,  4], device='cuda:0')"
      ]
     },
     "execution_count": 14,
     "metadata": {},
     "output_type": "execute_result"
    }
   ],
   "source": [
    "torch.argmax(transferer.victims[2](transferer.x_adv),dim = 1)"
   ]
  },
  {
   "cell_type": "code",
   "execution_count": null,
   "metadata": {},
   "outputs": [],
   "source": []
  }
 ],
 "metadata": {
  "kernelspec": {
   "display_name": "Python 3",
   "language": "python",
   "name": "python3"
  },
  "language_info": {
   "codemirror_mode": {
    "name": "ipython",
    "version": 3
   },
   "file_extension": ".py",
   "mimetype": "text/x-python",
   "name": "python",
   "nbconvert_exporter": "python",
   "pygments_lexer": "ipython3",
   "version": "3.8.5"
  }
 },
 "nbformat": 4,
 "nbformat_minor": 4
}
